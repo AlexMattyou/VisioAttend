{
 "cells": [
  {
   "cell_type": "code",
   "execution_count": 1,
   "metadata": {},
   "outputs": [],
   "source": [
    "from VIAmodule import *"
   ]
  },
  {
   "cell_type": "code",
   "execution_count": 19,
   "metadata": {},
   "outputs": [],
   "source": [
    "def capture(port = 0, threshold = 100000):\n",
    "    step = settings('captureMaxMin')\n",
    "    kernel = settings('captureKernel')\n",
    "    historyLimit = settings('captureHistoryLimit')\n",
    "    savePath= \"/images/captured/\"\n",
    "    \n",
    "    preFrame = None\n",
    "    cap = cv2.VideoCapture(port)\n",
    "    count = 0\n",
    "    history = []\n",
    "    imgList = os.listdir(rootLoc+savePath)\n",
    "    imgList = [int(i.split('.')[0]) for i in imgList] if imgList else [0]\n",
    "    nextImage = max(imgList) + 1\n",
    "    while True:\n",
    "        success, frame = cap.read()\n",
    "        global image\n",
    "        count+= 1\n",
    "        if success:\n",
    "            gray = cv2.cvtColor(frame, cv2.COLOR_BGR2GRAY)\n",
    "            gray = cv2.GaussianBlur(gray, (kernel, kernel), 0)\n",
    "            if preFrame is not None:\n",
    "                frameDiff = cv2.absdiff(preFrame, gray)\n",
    "                motion = round(cv2.sumElems(frameDiff)[0])\n",
    "                if motion == 0:\n",
    "                    count  = 1\n",
    "                    continue\n",
    "                history.append(motion)\n",
    "                if len(history) > historyLimit:\n",
    "                    history.pop(0)\n",
    "                motionMean =sum(history)/len(history)\n",
    "                threshold = round(motionMean * 2)\n",
    "                print(motion, threshold)\n",
    "                if ((motion > threshold) or (count >= step[1]))and count >= step[0]:\n",
    "                    # print(count '     ' threshold  '     '  motion)\n",
    "                    count = 0\n",
    "                    cv2.imwrite(\"D:/Projects/VisioAttend/images/captured/\"+ f'{nextImage}.png', frame)\n",
    "                    nextImage += 1\n",
    "                    print('Running')\n",
    "            # Update the previous frame\n",
    "            preFrame = gray\n",
    "        # cv2.imshow('Frame'  frame)\n",
    "    cap.release()"
   ]
  }
 ],
 "metadata": {
  "kernelspec": {
   "display_name": "Python 3",
   "language": "python",
   "name": "python3"
  },
  "language_info": {
   "codemirror_mode": {
    "name": "ipython",
    "version": 3
   },
   "file_extension": ".py",
   "mimetype": "text/x-python",
   "name": "python",
   "nbconvert_exporter": "python",
   "pygments_lexer": "ipython3",
   "version": "3.9.13"
  }
 },
 "nbformat": 4,
 "nbformat_minor": 2
}
