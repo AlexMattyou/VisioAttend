{
 "cells": [
  {
   "cell_type": "markdown",
   "metadata": {},
   "source": [
    "# Welcome to Visio-Attend\n",
    "This is a live demo of our project"
   ]
  },
  {
   "cell_type": "markdown",
   "metadata": {},
   "source": [
    "## Set-up"
   ]
  },
  {
   "cell_type": "code",
   "execution_count": 1,
   "metadata": {},
   "outputs": [
    {
     "name": "stdout",
     "output_type": "stream",
     "text": [
      "Success!!\n"
     ]
    }
   ],
   "source": [
    "import mattcode\n",
    "mattcode.p = '🟢' # symbol to mark present\n",
    "mattcode.a = '🔴' # symbol to mark absent\n",
    "attend = mattcode.VisioAttend(\"C:/Users/alexm/OneDrive/Desktop/VisioAttend\",800,True)"
   ]
  },
  {
   "cell_type": "markdown",
   "metadata": {},
   "source": [
    "## Encoding"
   ]
  },
  {
   "cell_type": "code",
   "execution_count": 2,
   "metadata": {},
   "outputs": [
    {
     "name": "stdout",
     "output_type": "stream",
     "text": [
      "Images in folder: ['beauty.png', 'cute.png', 'fat.png', 'handsome.png', 'kid.png', 'little.png', 'sir.png']\n",
      "Face encoded:  beauty\n",
      "Face encoded:  cute\n",
      "Face encoded:  fat\n",
      "Face encoded:  handsome\n",
      "Face encoded:  kid\n",
      "Face encoded:  little\n",
      "Face encoded:  sir\n",
      "Encoding Successful!\n"
     ]
    }
   ],
   "source": [
    "attend.newSpace() \n",
    "from datetime import date\n",
    "attend.addDates(date(2023,7,14),date(2023,8,19))"
   ]
  }
 ],
 "metadata": {
  "kernelspec": {
   "display_name": "Python 3",
   "language": "python",
   "name": "python3"
  },
  "language_info": {
   "codemirror_mode": {
    "name": "ipython",
    "version": 3
   },
   "file_extension": ".py",
   "mimetype": "text/x-python",
   "name": "python",
   "nbconvert_exporter": "python",
   "pygments_lexer": "ipython3",
   "version": "3.11.4"
  },
  "orig_nbformat": 4
 },
 "nbformat": 4,
 "nbformat_minor": 2
}
